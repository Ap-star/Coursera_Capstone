{
    "cells": [
        {
            "cell_type": "markdown",
            "metadata": {},
            "source": "### IMPORTING THE DATA FROM WIKIPEDIA"
        },
        {
            "cell_type": "code",
            "execution_count": 1,
            "metadata": {},
            "outputs": [],
            "source": "import pandas as pd\ndf=pd.read_html('https://en.wikipedia.org/wiki/List_of_postal_codes_of_Canada:_M')[0]"
        },
        {
            "cell_type": "markdown",
            "metadata": {},
            "source": "### Removing the Not assigned Borough"
        },
        {
            "cell_type": "code",
            "execution_count": 2,
            "metadata": {},
            "outputs": [],
            "source": "df=df[df['Borough']!='Not assigned']"
        },
        {
            "cell_type": "markdown",
            "metadata": {},
            "source": "### Pre-Processing (Filling) the value of not assigned to the field neighbourhood"
        },
        {
            "cell_type": "code",
            "execution_count": 3,
            "metadata": {},
            "outputs": [],
            "source": "df['Neighbourhood']=df['Neighbourhood'].replace('Not assigned',df['Borough'])"
        },
        {
            "cell_type": "markdown",
            "metadata": {},
            "source": "### Grouping the data"
        },
        {
            "cell_type": "code",
            "execution_count": 4,
            "metadata": {},
            "outputs": [],
            "source": "df=(df.groupby(['Postcode','Borough'])['Neighbourhood']\n       .apply(lambda x: ','.join(set(x.dropna())))\n       .reset_index())"
        },
        {
            "cell_type": "markdown",
            "metadata": {},
            "source": "### The Shape of DataFrame"
        },
        {
            "cell_type": "code",
            "execution_count": 5,
            "metadata": {},
            "outputs": [
                {
                    "data": {
                        "text/plain": "(103, 3)"
                    },
                    "execution_count": 5,
                    "metadata": {},
                    "output_type": "execute_result"
                }
            ],
            "source": "df.shape"
        },
        {
            "cell_type": "markdown",
            "metadata": {},
            "source": "#### Reading the Lat-Long data from CSV"
        },
        {
            "cell_type": "code",
            "execution_count": 6,
            "metadata": {},
            "outputs": [
                {
                    "data": {
                        "text/html": "<div>\n<style scoped>\n    .dataframe tbody tr th:only-of-type {\n        vertical-align: middle;\n    }\n\n    .dataframe tbody tr th {\n        vertical-align: top;\n    }\n\n    .dataframe thead th {\n        text-align: right;\n    }\n</style>\n<table border=\"1\" class=\"dataframe\">\n  <thead>\n    <tr style=\"text-align: right;\">\n      <th></th>\n      <th>Postcode</th>\n      <th>Latitude</th>\n      <th>Longitude</th>\n    </tr>\n  </thead>\n  <tbody>\n    <tr>\n      <th>0</th>\n      <td>Postal Code</td>\n      <td>Latitude</td>\n      <td>Longitude</td>\n    </tr>\n    <tr>\n      <th>1</th>\n      <td>M1B</td>\n      <td>43.8066863</td>\n      <td>-79.1943534</td>\n    </tr>\n    <tr>\n      <th>2</th>\n      <td>M1C</td>\n      <td>43.7845351</td>\n      <td>-79.1604971</td>\n    </tr>\n    <tr>\n      <th>3</th>\n      <td>M1E</td>\n      <td>43.7635726</td>\n      <td>-79.1887115</td>\n    </tr>\n    <tr>\n      <th>4</th>\n      <td>M1G</td>\n      <td>43.7709921</td>\n      <td>-79.2169174</td>\n    </tr>\n  </tbody>\n</table>\n</div>",
                        "text/plain": "      Postcode    Latitude    Longitude\n0  Postal Code    Latitude    Longitude\n1          M1B  43.8066863  -79.1943534\n2          M1C  43.7845351  -79.1604971\n3          M1E  43.7635726  -79.1887115\n4          M1G  43.7709921  -79.2169174"
                    },
                    "execution_count": 6,
                    "metadata": {},
                    "output_type": "execute_result"
                }
            ],
            "source": "dfLatLong=pd.read_csv('http://cocl.us/Geospatial_data',names=['Postcode','Latitude','Longitude'])\ndfLatLong.head()"
        },
        {
            "cell_type": "markdown",
            "metadata": {},
            "source": "### Merging DataFrames based on PostCode to get the Longitude,Latitude Values"
        },
        {
            "cell_type": "code",
            "execution_count": 7,
            "metadata": {},
            "outputs": [
                {
                    "data": {
                        "text/html": "<div>\n<style scoped>\n    .dataframe tbody tr th:only-of-type {\n        vertical-align: middle;\n    }\n\n    .dataframe tbody tr th {\n        vertical-align: top;\n    }\n\n    .dataframe thead th {\n        text-align: right;\n    }\n</style>\n<table border=\"1\" class=\"dataframe\">\n  <thead>\n    <tr style=\"text-align: right;\">\n      <th></th>\n      <th>Postcode</th>\n      <th>Borough</th>\n      <th>Neighbourhood</th>\n      <th>Latitude</th>\n      <th>Longitude</th>\n    </tr>\n  </thead>\n  <tbody>\n    <tr>\n      <th>0</th>\n      <td>M1B</td>\n      <td>Scarborough</td>\n      <td>Rouge,Malvern</td>\n      <td>43.8066863</td>\n      <td>-79.1943534</td>\n    </tr>\n    <tr>\n      <th>1</th>\n      <td>M1C</td>\n      <td>Scarborough</td>\n      <td>Port Union,Rouge Hill,Highland Creek</td>\n      <td>43.7845351</td>\n      <td>-79.1604971</td>\n    </tr>\n    <tr>\n      <th>2</th>\n      <td>M1E</td>\n      <td>Scarborough</td>\n      <td>Guildwood,West Hill,Morningside</td>\n      <td>43.7635726</td>\n      <td>-79.1887115</td>\n    </tr>\n    <tr>\n      <th>3</th>\n      <td>M1G</td>\n      <td>Scarborough</td>\n      <td>Woburn</td>\n      <td>43.7709921</td>\n      <td>-79.2169174</td>\n    </tr>\n    <tr>\n      <th>4</th>\n      <td>M1H</td>\n      <td>Scarborough</td>\n      <td>Cedarbrae</td>\n      <td>43.773136</td>\n      <td>-79.2394761</td>\n    </tr>\n    <tr>\n      <th>5</th>\n      <td>M1J</td>\n      <td>Scarborough</td>\n      <td>Scarborough Village</td>\n      <td>43.7447342</td>\n      <td>-79.2394761</td>\n    </tr>\n    <tr>\n      <th>6</th>\n      <td>M1K</td>\n      <td>Scarborough</td>\n      <td>Ionview,Kennedy Park,East Birchmount Park</td>\n      <td>43.7279292</td>\n      <td>-79.2620294</td>\n    </tr>\n    <tr>\n      <th>7</th>\n      <td>M1L</td>\n      <td>Scarborough</td>\n      <td>Oakridge,Clairlea,Golden Mile</td>\n      <td>43.7111117</td>\n      <td>-79.2845772</td>\n    </tr>\n    <tr>\n      <th>8</th>\n      <td>M1M</td>\n      <td>Scarborough</td>\n      <td>Cliffcrest,Scarborough Village West,Cliffside</td>\n      <td>43.716316</td>\n      <td>-79.2394761</td>\n    </tr>\n    <tr>\n      <th>9</th>\n      <td>M1N</td>\n      <td>Scarborough</td>\n      <td>Cliffside West,Birch Cliff</td>\n      <td>43.692657</td>\n      <td>-79.2648481</td>\n    </tr>\n    <tr>\n      <th>10</th>\n      <td>M1P</td>\n      <td>Scarborough</td>\n      <td>Scarborough Town Centre,Dorset Park,Wexford He...</td>\n      <td>43.7574096</td>\n      <td>-79.273304</td>\n    </tr>\n    <tr>\n      <th>11</th>\n      <td>M1R</td>\n      <td>Scarborough</td>\n      <td>Maryvale,Wexford</td>\n      <td>43.7500715</td>\n      <td>-79.2958491</td>\n    </tr>\n    <tr>\n      <th>12</th>\n      <td>M1S</td>\n      <td>Scarborough</td>\n      <td>Agincourt</td>\n      <td>43.7942003</td>\n      <td>-79.2620294</td>\n    </tr>\n    <tr>\n      <th>13</th>\n      <td>M1T</td>\n      <td>Scarborough</td>\n      <td>Clarks Corners,Sullivan,Tam O'Shanter</td>\n      <td>43.7816375</td>\n      <td>-79.3043021</td>\n    </tr>\n    <tr>\n      <th>14</th>\n      <td>M1V</td>\n      <td>Scarborough</td>\n      <td>Steeles East,Agincourt North,Milliken,L'Amorea...</td>\n      <td>43.8152522</td>\n      <td>-79.2845772</td>\n    </tr>\n    <tr>\n      <th>15</th>\n      <td>M1W</td>\n      <td>Scarborough</td>\n      <td>L'Amoreaux West</td>\n      <td>43.7995252</td>\n      <td>-79.3183887</td>\n    </tr>\n    <tr>\n      <th>16</th>\n      <td>M1X</td>\n      <td>Scarborough</td>\n      <td>Upper Rouge</td>\n      <td>43.8361247</td>\n      <td>-79.2056361</td>\n    </tr>\n    <tr>\n      <th>17</th>\n      <td>M2H</td>\n      <td>North York</td>\n      <td>Hillcrest Village</td>\n      <td>43.8037622</td>\n      <td>-79.3634517</td>\n    </tr>\n    <tr>\n      <th>18</th>\n      <td>M2J</td>\n      <td>North York</td>\n      <td>Henry Farm,Fairview,Oriole</td>\n      <td>43.7785175</td>\n      <td>-79.3465557</td>\n    </tr>\n    <tr>\n      <th>19</th>\n      <td>M2K</td>\n      <td>North York</td>\n      <td>Bayview Village</td>\n      <td>43.7869473</td>\n      <td>-79.385975</td>\n    </tr>\n    <tr>\n      <th>20</th>\n      <td>M2L</td>\n      <td>North York</td>\n      <td>York Mills,Silver Hills</td>\n      <td>43.7574902</td>\n      <td>-79.3747141</td>\n    </tr>\n    <tr>\n      <th>21</th>\n      <td>M2M</td>\n      <td>North York</td>\n      <td>Willowdale,Newtonbrook</td>\n      <td>43.789053</td>\n      <td>-79.4084928</td>\n    </tr>\n    <tr>\n      <th>22</th>\n      <td>M2N</td>\n      <td>North York</td>\n      <td>Willowdale South</td>\n      <td>43.7701199</td>\n      <td>-79.4084928</td>\n    </tr>\n    <tr>\n      <th>23</th>\n      <td>M2P</td>\n      <td>North York</td>\n      <td>York Mills West</td>\n      <td>43.7527583</td>\n      <td>-79.4000493</td>\n    </tr>\n    <tr>\n      <th>24</th>\n      <td>M2R</td>\n      <td>North York</td>\n      <td>Willowdale West</td>\n      <td>43.7827364</td>\n      <td>-79.4422593</td>\n    </tr>\n    <tr>\n      <th>25</th>\n      <td>M3A</td>\n      <td>North York</td>\n      <td>Parkwoods</td>\n      <td>43.7532586</td>\n      <td>-79.3296565</td>\n    </tr>\n    <tr>\n      <th>26</th>\n      <td>M3B</td>\n      <td>North York</td>\n      <td>Don Mills North</td>\n      <td>43.7459058</td>\n      <td>-79.352188</td>\n    </tr>\n    <tr>\n      <th>27</th>\n      <td>M3C</td>\n      <td>North York</td>\n      <td>Don Mills South,Flemingdon Park</td>\n      <td>43.7258997</td>\n      <td>-79.340923</td>\n    </tr>\n    <tr>\n      <th>28</th>\n      <td>M3H</td>\n      <td>North York</td>\n      <td>Bathurst Manor,Downsview North,Wilson Heights</td>\n      <td>43.7543283</td>\n      <td>-79.4422593</td>\n    </tr>\n    <tr>\n      <th>29</th>\n      <td>M3J</td>\n      <td>North York</td>\n      <td>Northwood Park,York University</td>\n      <td>43.7679803</td>\n      <td>-79.4872619</td>\n    </tr>\n    <tr>\n      <th>...</th>\n      <td>...</td>\n      <td>...</td>\n      <td>...</td>\n      <td>...</td>\n      <td>...</td>\n    </tr>\n    <tr>\n      <th>73</th>\n      <td>M6C</td>\n      <td>York</td>\n      <td>Humewood-Cedarvale</td>\n      <td>43.6937813</td>\n      <td>-79.4281914</td>\n    </tr>\n    <tr>\n      <th>74</th>\n      <td>M6E</td>\n      <td>York</td>\n      <td>Caledonia-Fairbanks</td>\n      <td>43.6890256</td>\n      <td>-79.453512</td>\n    </tr>\n    <tr>\n      <th>75</th>\n      <td>M6G</td>\n      <td>Downtown Toronto</td>\n      <td>Christie</td>\n      <td>43.669542</td>\n      <td>-79.4225637</td>\n    </tr>\n    <tr>\n      <th>76</th>\n      <td>M6H</td>\n      <td>West Toronto</td>\n      <td>Dovercourt Village,Dufferin</td>\n      <td>43.6690051</td>\n      <td>-79.4422593</td>\n    </tr>\n    <tr>\n      <th>77</th>\n      <td>M6J</td>\n      <td>West Toronto</td>\n      <td>Trinity,Little Portugal</td>\n      <td>43.6479267</td>\n      <td>-79.4197497</td>\n    </tr>\n    <tr>\n      <th>78</th>\n      <td>M6K</td>\n      <td>West Toronto</td>\n      <td>Exhibition Place,Parkdale Village,Brockton</td>\n      <td>43.6368472</td>\n      <td>-79.4281914</td>\n    </tr>\n    <tr>\n      <th>79</th>\n      <td>M6L</td>\n      <td>North York</td>\n      <td>Downsview,North Park,Upwood Park</td>\n      <td>43.7137562</td>\n      <td>-79.4900738</td>\n    </tr>\n    <tr>\n      <th>80</th>\n      <td>M6M</td>\n      <td>York</td>\n      <td>Silverthorn,Mount Dennis,Keelesdale,Del Ray</td>\n      <td>43.6911158</td>\n      <td>-79.4760133</td>\n    </tr>\n    <tr>\n      <th>81</th>\n      <td>M6N</td>\n      <td>York</td>\n      <td>Runnymede,The Junction North</td>\n      <td>43.6731853</td>\n      <td>-79.4872619</td>\n    </tr>\n    <tr>\n      <th>82</th>\n      <td>M6P</td>\n      <td>West Toronto</td>\n      <td>High Park,The Junction South</td>\n      <td>43.6616083</td>\n      <td>-79.4647633</td>\n    </tr>\n    <tr>\n      <th>83</th>\n      <td>M6R</td>\n      <td>West Toronto</td>\n      <td>Roncesvalles,Parkdale</td>\n      <td>43.6489597</td>\n      <td>-79.456325</td>\n    </tr>\n    <tr>\n      <th>84</th>\n      <td>M6S</td>\n      <td>West Toronto</td>\n      <td>Runnymede,Swansea</td>\n      <td>43.6515706</td>\n      <td>-79.4844499</td>\n    </tr>\n    <tr>\n      <th>85</th>\n      <td>M7A</td>\n      <td>Queen's Park</td>\n      <td>Queen's Park</td>\n      <td>43.6623015</td>\n      <td>-79.3894938</td>\n    </tr>\n    <tr>\n      <th>86</th>\n      <td>M7R</td>\n      <td>Mississauga</td>\n      <td>Canada Post Gateway Processing Centre</td>\n      <td>43.6369656</td>\n      <td>-79.615819</td>\n    </tr>\n    <tr>\n      <th>87</th>\n      <td>M7Y</td>\n      <td>East Toronto</td>\n      <td>Business Reply Mail Processing Centre 969 Eastern</td>\n      <td>43.6627439</td>\n      <td>-79.321558</td>\n    </tr>\n    <tr>\n      <th>88</th>\n      <td>M8V</td>\n      <td>Etobicoke</td>\n      <td>Humber Bay Shores,Mimico South,New Toronto</td>\n      <td>43.6056466</td>\n      <td>-79.5013207</td>\n    </tr>\n    <tr>\n      <th>89</th>\n      <td>M8W</td>\n      <td>Etobicoke</td>\n      <td>Long Branch,Alderwood</td>\n      <td>43.6024137</td>\n      <td>-79.5434841</td>\n    </tr>\n    <tr>\n      <th>90</th>\n      <td>M8X</td>\n      <td>Etobicoke</td>\n      <td>Old Mill North,The Kingsway,Montgomery Road</td>\n      <td>43.6536536</td>\n      <td>-79.5069436</td>\n    </tr>\n    <tr>\n      <th>91</th>\n      <td>M8Y</td>\n      <td>Etobicoke</td>\n      <td>Humber Bay,Royal York South East,Sunnylea,Old ...</td>\n      <td>43.6362579</td>\n      <td>-79.4985091</td>\n    </tr>\n    <tr>\n      <th>92</th>\n      <td>M8Z</td>\n      <td>Etobicoke</td>\n      <td>The Queensway West,Mimico NW,Royal York South ...</td>\n      <td>43.6288408</td>\n      <td>-79.5209994</td>\n    </tr>\n    <tr>\n      <th>93</th>\n      <td>M9A</td>\n      <td>Queen's Park</td>\n      <td>Queen's Park</td>\n      <td>43.6678556</td>\n      <td>-79.5322424</td>\n    </tr>\n    <tr>\n      <th>94</th>\n      <td>M9B</td>\n      <td>Etobicoke</td>\n      <td>Cloverdale,Islington,West Deane Park,Martin Gr...</td>\n      <td>43.6509432</td>\n      <td>-79.5547244</td>\n    </tr>\n    <tr>\n      <th>95</th>\n      <td>M9C</td>\n      <td>Etobicoke</td>\n      <td>Markland Wood,Old Burnhamthorpe,Eringate,Bloor...</td>\n      <td>43.6435152</td>\n      <td>-79.5772008</td>\n    </tr>\n    <tr>\n      <th>96</th>\n      <td>M9L</td>\n      <td>North York</td>\n      <td>Humber Summit</td>\n      <td>43.7563033</td>\n      <td>-79.5659633</td>\n    </tr>\n    <tr>\n      <th>97</th>\n      <td>M9M</td>\n      <td>North York</td>\n      <td>Humberlea,Emery</td>\n      <td>43.7247659</td>\n      <td>-79.5322424</td>\n    </tr>\n    <tr>\n      <th>98</th>\n      <td>M9N</td>\n      <td>York</td>\n      <td>Weston</td>\n      <td>43.706876</td>\n      <td>-79.5181884</td>\n    </tr>\n    <tr>\n      <th>99</th>\n      <td>M9P</td>\n      <td>Etobicoke</td>\n      <td>Westmount</td>\n      <td>43.696319</td>\n      <td>-79.5322424</td>\n    </tr>\n    <tr>\n      <th>100</th>\n      <td>M9R</td>\n      <td>Etobicoke</td>\n      <td>Richview Gardens,Kingsview Village,St. Phillip...</td>\n      <td>43.6889054</td>\n      <td>-79.5547244</td>\n    </tr>\n    <tr>\n      <th>101</th>\n      <td>M9V</td>\n      <td>Etobicoke</td>\n      <td>Silverstone,Mount Olive,South Steeles,Jamestow...</td>\n      <td>43.7394164</td>\n      <td>-79.5884369</td>\n    </tr>\n    <tr>\n      <th>102</th>\n      <td>M9W</td>\n      <td>Etobicoke</td>\n      <td>Northwest</td>\n      <td>43.7067483</td>\n      <td>-79.5940544</td>\n    </tr>\n  </tbody>\n</table>\n<p>103 rows \u00d7 5 columns</p>\n</div>",
                        "text/plain": "    Postcode           Borough  \\\n0        M1B       Scarborough   \n1        M1C       Scarborough   \n2        M1E       Scarborough   \n3        M1G       Scarborough   \n4        M1H       Scarborough   \n5        M1J       Scarborough   \n6        M1K       Scarborough   \n7        M1L       Scarborough   \n8        M1M       Scarborough   \n9        M1N       Scarborough   \n10       M1P       Scarborough   \n11       M1R       Scarborough   \n12       M1S       Scarborough   \n13       M1T       Scarborough   \n14       M1V       Scarborough   \n15       M1W       Scarborough   \n16       M1X       Scarborough   \n17       M2H        North York   \n18       M2J        North York   \n19       M2K        North York   \n20       M2L        North York   \n21       M2M        North York   \n22       M2N        North York   \n23       M2P        North York   \n24       M2R        North York   \n25       M3A        North York   \n26       M3B        North York   \n27       M3C        North York   \n28       M3H        North York   \n29       M3J        North York   \n..       ...               ...   \n73       M6C              York   \n74       M6E              York   \n75       M6G  Downtown Toronto   \n76       M6H      West Toronto   \n77       M6J      West Toronto   \n78       M6K      West Toronto   \n79       M6L        North York   \n80       M6M              York   \n81       M6N              York   \n82       M6P      West Toronto   \n83       M6R      West Toronto   \n84       M6S      West Toronto   \n85       M7A      Queen's Park   \n86       M7R       Mississauga   \n87       M7Y      East Toronto   \n88       M8V         Etobicoke   \n89       M8W         Etobicoke   \n90       M8X         Etobicoke   \n91       M8Y         Etobicoke   \n92       M8Z         Etobicoke   \n93       M9A      Queen's Park   \n94       M9B         Etobicoke   \n95       M9C         Etobicoke   \n96       M9L        North York   \n97       M9M        North York   \n98       M9N              York   \n99       M9P         Etobicoke   \n100      M9R         Etobicoke   \n101      M9V         Etobicoke   \n102      M9W         Etobicoke   \n\n                                         Neighbourhood    Latitude  \\\n0                                        Rouge,Malvern  43.8066863   \n1                 Port Union,Rouge Hill,Highland Creek  43.7845351   \n2                      Guildwood,West Hill,Morningside  43.7635726   \n3                                               Woburn  43.7709921   \n4                                            Cedarbrae   43.773136   \n5                                  Scarborough Village  43.7447342   \n6            Ionview,Kennedy Park,East Birchmount Park  43.7279292   \n7                        Oakridge,Clairlea,Golden Mile  43.7111117   \n8        Cliffcrest,Scarborough Village West,Cliffside   43.716316   \n9                           Cliffside West,Birch Cliff   43.692657   \n10   Scarborough Town Centre,Dorset Park,Wexford He...  43.7574096   \n11                                    Maryvale,Wexford  43.7500715   \n12                                           Agincourt  43.7942003   \n13               Clarks Corners,Sullivan,Tam O'Shanter  43.7816375   \n14   Steeles East,Agincourt North,Milliken,L'Amorea...  43.8152522   \n15                                     L'Amoreaux West  43.7995252   \n16                                         Upper Rouge  43.8361247   \n17                                   Hillcrest Village  43.8037622   \n18                          Henry Farm,Fairview,Oriole  43.7785175   \n19                                     Bayview Village  43.7869473   \n20                             York Mills,Silver Hills  43.7574902   \n21                              Willowdale,Newtonbrook   43.789053   \n22                                    Willowdale South  43.7701199   \n23                                     York Mills West  43.7527583   \n24                                     Willowdale West  43.7827364   \n25                                           Parkwoods  43.7532586   \n26                                     Don Mills North  43.7459058   \n27                     Don Mills South,Flemingdon Park  43.7258997   \n28       Bathurst Manor,Downsview North,Wilson Heights  43.7543283   \n29                      Northwood Park,York University  43.7679803   \n..                                                 ...         ...   \n73                                  Humewood-Cedarvale  43.6937813   \n74                                 Caledonia-Fairbanks  43.6890256   \n75                                            Christie   43.669542   \n76                         Dovercourt Village,Dufferin  43.6690051   \n77                             Trinity,Little Portugal  43.6479267   \n78          Exhibition Place,Parkdale Village,Brockton  43.6368472   \n79                    Downsview,North Park,Upwood Park  43.7137562   \n80         Silverthorn,Mount Dennis,Keelesdale,Del Ray  43.6911158   \n81                        Runnymede,The Junction North  43.6731853   \n82                        High Park,The Junction South  43.6616083   \n83                               Roncesvalles,Parkdale  43.6489597   \n84                                   Runnymede,Swansea  43.6515706   \n85                                        Queen's Park  43.6623015   \n86               Canada Post Gateway Processing Centre  43.6369656   \n87   Business Reply Mail Processing Centre 969 Eastern  43.6627439   \n88          Humber Bay Shores,Mimico South,New Toronto  43.6056466   \n89                               Long Branch,Alderwood  43.6024137   \n90         Old Mill North,The Kingsway,Montgomery Road  43.6536536   \n91   Humber Bay,Royal York South East,Sunnylea,Old ...  43.6362579   \n92   The Queensway West,Mimico NW,Royal York South ...  43.6288408   \n93                                        Queen's Park  43.6678556   \n94   Cloverdale,Islington,West Deane Park,Martin Gr...  43.6509432   \n95   Markland Wood,Old Burnhamthorpe,Eringate,Bloor...  43.6435152   \n96                                       Humber Summit  43.7563033   \n97                                     Humberlea,Emery  43.7247659   \n98                                              Weston   43.706876   \n99                                           Westmount   43.696319   \n100  Richview Gardens,Kingsview Village,St. Phillip...  43.6889054   \n101  Silverstone,Mount Olive,South Steeles,Jamestow...  43.7394164   \n102                                          Northwest  43.7067483   \n\n       Longitude  \n0    -79.1943534  \n1    -79.1604971  \n2    -79.1887115  \n3    -79.2169174  \n4    -79.2394761  \n5    -79.2394761  \n6    -79.2620294  \n7    -79.2845772  \n8    -79.2394761  \n9    -79.2648481  \n10    -79.273304  \n11   -79.2958491  \n12   -79.2620294  \n13   -79.3043021  \n14   -79.2845772  \n15   -79.3183887  \n16   -79.2056361  \n17   -79.3634517  \n18   -79.3465557  \n19    -79.385975  \n20   -79.3747141  \n21   -79.4084928  \n22   -79.4084928  \n23   -79.4000493  \n24   -79.4422593  \n25   -79.3296565  \n26    -79.352188  \n27    -79.340923  \n28   -79.4422593  \n29   -79.4872619  \n..           ...  \n73   -79.4281914  \n74    -79.453512  \n75   -79.4225637  \n76   -79.4422593  \n77   -79.4197497  \n78   -79.4281914  \n79   -79.4900738  \n80   -79.4760133  \n81   -79.4872619  \n82   -79.4647633  \n83    -79.456325  \n84   -79.4844499  \n85   -79.3894938  \n86    -79.615819  \n87    -79.321558  \n88   -79.5013207  \n89   -79.5434841  \n90   -79.5069436  \n91   -79.4985091  \n92   -79.5209994  \n93   -79.5322424  \n94   -79.5547244  \n95   -79.5772008  \n96   -79.5659633  \n97   -79.5322424  \n98   -79.5181884  \n99   -79.5322424  \n100  -79.5547244  \n101  -79.5884369  \n102  -79.5940544  \n\n[103 rows x 5 columns]"
                    },
                    "execution_count": 7,
                    "metadata": {},
                    "output_type": "execute_result"
                }
            ],
            "source": "df=pd.merge(df,dfLatLong,on='Postcode')\ndf"
        }
    ],
    "metadata": {
        "kernelspec": {
            "display_name": "Python 3.6",
            "language": "python",
            "name": "python3"
        },
        "language_info": {
            "codemirror_mode": {
                "name": "ipython",
                "version": 3
            },
            "file_extension": ".py",
            "mimetype": "text/x-python",
            "name": "python",
            "nbconvert_exporter": "python",
            "pygments_lexer": "ipython3",
            "version": "3.6.8"
        }
    },
    "nbformat": 4,
    "nbformat_minor": 1
}